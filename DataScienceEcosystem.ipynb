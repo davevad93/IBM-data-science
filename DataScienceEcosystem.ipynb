{
 "cells": [
  {
   "cell_type": "markdown",
   "id": "7f145542-3ce6-4c21-88b3-0a19570259b5",
   "metadata": {},
   "source": [
    "# Data Science Tools and Ecosystem"
   ]
  },
  {
   "cell_type": "markdown",
   "id": "9f250a8c-c7d7-4327-adfc-338128de5ab7",
   "metadata": {},
   "source": [
    "In this notebook, Data Science Tools and Ecosystem are summarized."
   ]
  },
  {
   "cell_type": "markdown",
   "id": "167f820d-bbe2-4fa5-ae58-2542860bfba3",
   "metadata": {},
   "source": [
    "**Objectives:**\n",
    "- Summarize Data Science Tools and Ecosystem\n",
    "- List popular languages for Data Science\n",
    "- List popular libraries used for Data Science\n",
    "- List popular Data Science tools\n",
    "- Write a few examples of evaluating arithmetic expressions in Python"
   ]
  },
  {
   "cell_type": "markdown",
   "id": "3f6385af-b4d5-4790-bec9-76ce618982de",
   "metadata": {},
   "source": [
    "Some of the popular languages that Data Scientists use are:\n",
    "1. Python\n",
    "2. R\n",
    "3. SQL\n",
    "4. Julia\n",
    "5. JavaScript\n",
    "6. Scala\n",
    "7. Java\n",
    "8. Go\n",
    "9. MATLAB\n",
    "10. C / C++"
   ]
  },
  {
   "cell_type": "markdown",
   "id": "59449a59-617a-4ab3-bed8-f1298426c175",
   "metadata": {},
   "source": [
    "Some of the commonly used libraries used by Data Scientists include:\n",
    "1. TensorFlow\n",
    "2. NumPy\n",
    "3. SciPy\n",
    "4. Pandas\n",
    "5. Matplotlib\n",
    "6. Scikit-Learn\n",
    "7. BeautifulSoup\n",
    "8. dplyr\n",
    "9. ggplot2\n",
    "10. Plotly"
   ]
  },
  {
   "cell_type": "code",
   "execution_count": null,
   "id": "2ba0804b-be81-4c1c-8534-fc7eba288ae4",
   "metadata": {},
   "outputs": [],
   "source": []
  },
  {
   "cell_type": "markdown",
   "id": "b4ccd292-df9e-487a-8987-109f93e21181",
   "metadata": {},
   "source": [
    "| Data Science Tools | \n",
    "| ------------------ |\n",
    "| RStudio |\n",
    "| Apache Spark |\n",
    "| TensorFlow |\r",
    " |\r\n",
    "   |\r\n"
   ]
  },
  {
   "cell_type": "markdown",
   "id": "1785c129-0517-4add-b3e7-af3cb1a14316",
   "metadata": {},
   "source": [
    "### Below are a few examples of evaluating arithmetic expressions in Python"
   ]
  },
  {
   "cell_type": "code",
   "execution_count": 1,
   "id": "c70ad975-d804-4c6c-ab48-92e1f52c2e8c",
   "metadata": {},
   "outputs": [
    {
     "data": {
      "text/plain": [
       "17"
      ]
     },
     "execution_count": 1,
     "metadata": {},
     "output_type": "execute_result"
    }
   ],
   "source": [
    "# This a simple arithmetic expression to mutiply then add integers\n",
    "(3*4)+5"
   ]
  },
  {
   "cell_type": "code",
   "execution_count": 2,
   "id": "2058118d-ef6d-4d51-85cd-ec49145c417a",
   "metadata": {},
   "outputs": [
    {
     "name": "stdout",
     "output_type": "stream",
     "text": [
      "3.33\n"
     ]
    }
   ],
   "source": [
    "# This will convert 200 minutes to hours by diving by 60\n",
    "minutes = 200\n",
    "hours = minutes / 60\n",
    "print(\"%.2f\" % hours)"
   ]
  },
  {
   "cell_type": "markdown",
   "id": "5f098bf6-1979-45c4-94fe-f233763a37f2",
   "metadata": {},
   "source": [
    "## Author\n",
    "Davide Presti"
   ]
  },
  {
   "cell_type": "code",
   "execution_count": null,
   "id": "ec52d534-1f4f-434a-beeb-4a9b04f227ff",
   "metadata": {},
   "outputs": [],
   "source": []
  }
 ],
 "metadata": {
  "kernelspec": {
   "display_name": "Python 3 (ipykernel)",
   "language": "python",
   "name": "python3"
  },
  "language_info": {
   "codemirror_mode": {
    "name": "ipython",
    "version": 3
   },
   "file_extension": ".py",
   "mimetype": "text/x-python",
   "name": "python",
   "nbconvert_exporter": "python",
   "pygments_lexer": "ipython3",
   "version": "3.12.3"
  }
 },
 "nbformat": 4,
 "nbformat_minor": 5
}
